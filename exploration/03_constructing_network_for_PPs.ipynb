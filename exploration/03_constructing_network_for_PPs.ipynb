{
 "cells": [
  {
   "cell_type": "markdown",
   "metadata": {},
   "source": [
    "# constructing a network for PPs based on their spatial location"
   ]
  },
  {
   "cell_type": "code",
   "execution_count": 3,
   "metadata": {},
   "outputs": [],
   "source": [
    "import numpy as np\n",
    "import sklearn\n",
    "from nmf_with_missing_values import nmf_with_missing_values\n",
    "import ipyvolume\n",
    "import matplotlib.pyplot as plt\n",
    "from sklearn.metrics.pairwise import euclidean_distances\n",
    "import seaborn as sns\n",
    "import scipy as sp\n",
    "import networkx as nx\n",
    "%matplotlib inline"
   ]
  },
  {
   "cell_type": "markdown",
   "metadata": {},
   "source": [
    "## load the data"
   ]
  },
  {
   "cell_type": "code",
   "execution_count": 4,
   "metadata": {},
   "outputs": [],
   "source": [
    "tmp = np.load('../data/mouse_brain_ISH_float32.npz')\n",
    "data = tmp['data']\n",
    "sections = tmp['sections']\n",
    "original_shape = data.shape\n",
    "d = data.shape[1] * data.shape[2] * data.shape[3]\n",
    "data = np.reshape(data, (data.shape[0], d))"
   ]
  },
  {
   "cell_type": "markdown",
   "metadata": {},
   "source": [
    "## load the PPs"
   ]
  },
  {
   "cell_type": "code",
   "execution_count": 5,
   "metadata": {},
   "outputs": [],
   "source": [
    "f = np.load('../code/reza/nmf_result_ncomp_18.npz')\n",
    "A = f['A']\n",
    "original_shape = f['original_shape']\n",
    "X_guess = f['X_guess']\n",
    "D = f['D']"
   ]
  },
  {
   "cell_type": "markdown",
   "metadata": {},
   "source": [
    "### compute the distances between different patterns\n",
    "For two PPs, we compute their distance in the following way:\n",
    "- First, select the top voxels from each PP based on intensities.\n",
    "- Then, we compute the distance between two PPs using the distance between the two sets."
   ]
  },
  {
   "cell_type": "code",
   "execution_count": 6,
   "metadata": {},
   "outputs": [],
   "source": [
    "D_cube = A.reshape([18] + list(original_shape[1:])) # transform the vector to 3d tensor"
   ]
  },
  {
   "cell_type": "code",
   "execution_count": 7,
   "metadata": {},
   "outputs": [],
   "source": [
    "assert np.allclose(D_cube[0,:], A[0, :].reshape(original_shape[1:]))"
   ]
  },
  {
   "cell_type": "code",
   "execution_count": 9,
   "metadata": {},
   "outputs": [],
   "source": [
    "distance = np.zeros((18, 18))\n",
    "\n",
    "# Step 1: select the top voxels for each PP\n",
    "set_of_vectors = dict()\n",
    "for i in range(18):\n",
    "    threshold = np.quantile(D_cube[i,:,:,:].flatten(), .99)\n",
    "    set_of_vectors[i] =  np.array([(x,y,z) for x in range(D_cube.shape[1]) for y in range(D_cube.shape[2]) for z in range(D_cube.shape[3]) if D_cube[i,x,y,z] > threshold])"
   ]
  },
  {
   "cell_type": "code",
   "execution_count": 12,
   "metadata": {},
   "outputs": [],
   "source": [
    "# Step 2: compute the set distance\n",
    "for i in range(18):\n",
    "    for j in range(18):\n",
    "        Y = sp.spatial.distance.cdist(set_of_vectors[i], set_of_vectors[j], metric='euclidean')\n",
    "        distance[i][j] = np.min(Y.flatten())\n",
    "        #print(i,j, distance[i][j])"
   ]
  },
  {
   "cell_type": "code",
   "execution_count": 13,
   "metadata": {},
   "outputs": [
    {
     "data": {
      "text/plain": [
       "<matplotlib.image.AxesImage at 0x7f019ceadc50>"
      ]
     },
     "execution_count": 13,
     "metadata": {},
     "output_type": "execute_result"
    },
    {
     "data": {
      "image/png": "[encoded data removed]",
      "text/plain": [
       "<Figure size 432x288 with 1 Axes>"
      ]
     },
     "metadata": {
      "needs_background": "light"
     },
     "output_type": "display_data"
    }
   ],
   "source": [
    "plt.imshow(distance)"
   ]
  },
  {
   "cell_type": "markdown",
   "metadata": {},
   "source": [
    "### visualize the distance matrix"
   ]
  },
  {
   "cell_type": "code",
   "execution_count": 32,
   "metadata": {},
   "outputs": [
    {
     "data": {
      "image/png": "[encoded data removed]",
      "text/plain": [
       "<Figure size 432x288 with 1 Axes>"
      ]
     },
     "metadata": {},
     "output_type": "display_data"
    }
   ],
   "source": [
    "import networkx as nx\n",
    "threshold = np.quantile(distance.flatten(), .1)\n",
    "G=nx.Graph()\n",
    "G.add_nodes_from([\"PP{}\".format(i) for i in range(18)])\n",
    "for i in range(18):\n",
    "    if np.any(distance[i][i+1:] < threshold):\n",
    "        for j in range(i+1, 18):\n",
    "            if distance[i][j] < threshold:\n",
    "                G.add_edge(\"PP{}\".format(i), \"PP{}\".format(j))\n",
    "    else:\n",
    "        tmp = distance[i]\n",
    "        tmp[i] = 1e6\n",
    "        ind = np.argmin(tmp)\n",
    "        G.add_edge(\"PP{}\".format(ind), \"PP{}\".format(i))\n",
    "nx.draw_networkx(G)"
   ]
  },
  {
   "cell_type": "code",
   "execution_count": 1,
   "metadata": {},
   "outputs": [
    {
     "ename": "NameError",
     "evalue": "name 'G' is not defined",
     "output_type": "error",
     "traceback": [
      "\u001b[0;31m---------------------------------------------------------------------------\u001b[0m",
      "\u001b[0;31mNameError\u001b[0m                                 Traceback (most recent call last)",
      "\u001b[0;32m<ipython-input-1-6ae077beb2ca>\u001b[0m in \u001b[0;36m<module>\u001b[0;34m\u001b[0m\n\u001b[0;32m----> 1\u001b[0;31m \u001b[0mG\u001b[0m\u001b[0;34m.\u001b[0m\u001b[0mdegree\u001b[0m\u001b[0;34m(\u001b[0m\u001b[0;34m)\u001b[0m\u001b[0;34m\u001b[0m\u001b[0;34m\u001b[0m\u001b[0m\n\u001b[0m",
      "\u001b[0;31mNameError\u001b[0m: name 'G' is not defined"
     ]
    }
   ],
   "source": [
    "G.degree()"
   ]
  },
  {
   "cell_type": "markdown",
   "metadata": {},
   "source": [
    "### Observation: Compared with the correlation between PPs and the human labeled region, it seems that isolated PPs correspond better to the manual regions."
   ]
  },
  {
   "cell_type": "code",
   "execution_count": 66,
   "metadata": {},
   "outputs": [
    {
     "name": "stdout",
     "output_type": "stream",
     "text": [
      "PP0 3\n",
      "PP1 2\n",
      "PP2 1\n",
      "PP3 1\n",
      "PP4 3\n",
      "PP5 3\n",
      "PP6 2\n",
      "PP7 3\n",
      "PP8 1\n",
      "PP9 1\n",
      "PP10 1\n",
      "PP11 1\n",
      "PP12 1\n",
      "PP13 2\n",
      "PP14 2\n",
      "PP15 1\n",
      "PP16 1\n",
      "PP17 3\n"
     ]
    }
   ],
   "source": [
    "for i in range(18):\n",
    "    print('PP{}'.format(i), G.degree('PP{}'.format(i)))"
   ]
  },
  {
   "cell_type": "markdown",
   "metadata": {},
   "source": [
    "### Could be interesting to look at what are the two groups?"
   ]
  },
  {
   "cell_type": "code",
   "execution_count": 26,
   "metadata": {},
   "outputs": [
    {
     "data": {
      "text/plain": [
       "<matplotlib.image.AxesImage at 0x7f004d7ca650>"
      ]
     },
     "execution_count": 26,
     "metadata": {},
     "output_type": "execute_result"
    },
    {
     "data": {
      "image/png": "[encoded data removed]",
      "text/plain": [
       "<Figure size 432x288 with 1 Axes>"
      ]
     },
     "metadata": {
      "needs_background": "light"
     },
     "output_type": "display_data"
    },
    {
     "data": {
      "image/png": "[encoded data removed]",
      "text/plain": [
       "<Figure size 432x288 with 1 Axes>"
      ]
     },
     "metadata": {
      "needs_background": "light"
     },
     "output_type": "display_data"
    }
   ],
   "source": [
    "group1 = [16,14,6,1,5,13,12]\n",
    "group2 = [0,1,2,3,4,5,7,8,9,10,11,15,17]\n",
    "\n",
    "for i in group1:\n",
    "    pass\n",
    "    #plt.figure()\n",
    "    #plt.imshow(np.sum(D_cube[i, :, :, :], 2))\n",
    "plt.figure()\n",
    "plt.imshow(np.sum(np.mean(D_cube[group1, :, :, :], 0), 2).T)\n",
    "plt.figure()\n",
    "plt.imshow(np.sum(np.mean(D_cube[group2, :, :, :], 0), 2).T)"
   ]
  },
  {
   "cell_type": "code",
   "execution_count": 35,
   "metadata": {},
   "outputs": [
    {
     "data": {
      "text/plain": [
       "(1594, 3)"
      ]
     },
     "execution_count": 35,
     "metadata": {},
     "output_type": "execute_result"
    }
   ],
   "source": [
    "set_of_vectors[5].shape"
   ]
  },
  {
   "cell_type": "code",
   "execution_count": null,
   "metadata": {},
   "outputs": [],
   "source": []
  }
 ],
 "metadata": {
  "kernelspec": {
   "display_name": "Environment (conda_python3)",
   "language": "python",
   "name": "conda_python3"
  },
  "language_info": {
   "codemirror_mode": {
    "name": "ipython",
    "version": 3
   },
   "file_extension": ".py",
   "mimetype": "text/x-python",
   "name": "python",
   "nbconvert_exporter": "python",
   "pygments_lexer": "ipython3",
   "version": "3.7.4"
  }
 },
 "nbformat": 4,
 "nbformat_minor": 2
}
