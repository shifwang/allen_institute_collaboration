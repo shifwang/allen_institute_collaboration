{
 "cells": [
  {
   "cell_type": "markdown",
   "metadata": {},
   "source": [
    "# Evaluate the imputation method"
   ]
  },
  {
   "cell_type": "code",
   "execution_count": 58,
   "metadata": {},
   "outputs": [],
   "source": [
    "import numpy as np\n",
    "import sklearn\n",
    "from nmf_with_missing_values import nmf_with_missing_values\n",
    "import matplotlib.pyplot as plt\n",
    "from sklearn.metrics.pairwise import euclidean_distances\n",
    "from sklearn.neighbors import KNeighborsRegressor as kNN\n",
    "import pandas as pd\n",
    "from sklearn.model_selection import train_test_split\n",
    "from sklearn.metrics import (mean_squared_error,\n",
    "                             mean_absolute_error,\n",
    "                             explained_variance_score,\n",
    "                             r2_score,\n",
    "                            )\n",
    "from tqdm import tqdm\n",
    "%matplotlib inline"
   ]
  },
  {
   "cell_type": "code",
   "execution_count": 59,
   "metadata": {},
   "outputs": [],
   "source": [
    "#load_data\n",
    "tmp = np.load('../data/filtered_data_with_missing_20_percent.npz')\n",
    "missing_mask = tmp['missing_mask']\n",
    "data = tmp['data']\n",
    "region_of_interest = tmp['region_of_interest']"
   ]
  },
  {
   "cell_type": "code",
   "execution_count": 60,
   "metadata": {},
   "outputs": [],
   "source": [
    "#preprocess generate the new data\n",
    "new_data = data.copy()\n",
    "new_data[missing_mask] = -1"
   ]
  },
  {
   "cell_type": "markdown",
   "metadata": {},
   "source": [
    "## Section 1: nearest neighbors"
   ]
  },
  {
   "cell_type": "code",
   "execution_count": 61,
   "metadata": {},
   "outputs": [],
   "source": [
    "#define_model\n",
    "\n",
    "class kNN_imputation:\n",
    "    def __init__(self, \n",
    "                 n_neighbors = 1,\n",
    "                 weights = 'uniform',\n",
    "                 metric = 'euclidean'):\n",
    "        ''' Init function of kNN_imputation\n",
    "        \n",
    "        '''\n",
    "        self.model = kNN(n_neighbors=n_neighbors, metric=metric, weights = weights, n_jobs=3)\n",
    "    def fit_transform(self, X, template, inplace = False):\n",
    "        '''\n",
    "        Input:\n",
    "          X : 4d array, missing values are -1.\n",
    "          template : 0-1 3d array, 1 means the voxel is of interest. \n",
    "        '''\n",
    "        if inplace:\n",
    "            Y = X\n",
    "        else:\n",
    "            Y = np.copy(X)\n",
    "        for ind in tqdm(range(X.shape[0])):\n",
    "            self.fit_transform_one_img(Y[ind,:,:,:], template, inplace=True)\n",
    "        return Y\n",
    "         \n",
    "        \n",
    "    def fit_transform_one_img(self, X, template, inplace = False):\n",
    "        '''\n",
    "        Input:\n",
    "          X : 3d array, missing values are -1.\n",
    "          template : 0-1 3d array, 1 means the voxel is of interest. \n",
    "        '''\n",
    "        long_form = []\n",
    "        for x in range(X.shape[0]):\n",
    "            for y in range(X.shape[1]):\n",
    "                for z in range(X.shape[2]):\n",
    "                    if template[x, y, z] > 0:\n",
    "                        long_form.append([x, y, z, X[x, y, z]])\n",
    "        long_form = np.array(long_form)\n",
    "        train_ind = long_form[:,3] >= 0\n",
    "        test_ind = long_form[:,3] < 0\n",
    "        X_train = long_form[train_ind,:3].astype(int)\n",
    "        y_train = long_form[train_ind,3]\n",
    "        X_test = long_form[test_ind, :3].astype(int)\n",
    "        self.model.fit(X_train, y_train)\n",
    "        y_test = self.model.predict(X_test)\n",
    "        if inplace:\n",
    "            Y = X\n",
    "        else:\n",
    "            Y = np.copy(X)\n",
    "        for ind, (x, y, z) in enumerate(X_test):\n",
    "            Y[x, y, z] = y_test[ind]\n",
    "        return Y\n",
    "        "
   ]
  },
  {
   "cell_type": "code",
   "execution_count": 62,
   "metadata": {},
   "outputs": [
    {
     "name": "stderr",
     "output_type": "stream",
     "text": [
      "100%|██████████| 40/40 [00:45<00:00,  1.07s/it]\n"
     ]
    }
   ],
   "source": [
    "#fit_model\n",
    "model = kNN_imputation(n_neighbors=6, weights='distance')\n",
    "imputed = model.fit_transform(new_data[:40], region_of_interest[0], inplace=False)"
   ]
  },
  {
   "cell_type": "code",
   "execution_count": 63,
   "metadata": {},
   "outputs": [],
   "source": [
    "#load_model"
   ]
  },
  {
   "cell_type": "code",
   "execution_count": 64,
   "metadata": {},
   "outputs": [
    {
     "name": "stdout",
     "output_type": "stream",
     "text": [
      "The MSE is 2.4354538254556246e-05\n",
      "The MAE is 0.0022555976174771786\n",
      "The explained_variance_score is 0.9842177033424377\n",
      "The R2 is 0.9842172056114726\n"
     ]
    }
   ],
   "source": [
    "#visualize evaluate the performance of model\n",
    "y_true = data[:40][missing_mask[:40]].flatten()\n",
    "y_pred = imputed[missing_mask[:40]].flatten()\n",
    "print(\"The MSE is {}\".format(\n",
    "    mean_squared_error(y_true=y_true, y_pred=y_pred)))\n",
    "print(\"The MAE is {}\".format(\n",
    "    mean_absolute_error(y_true=y_true, y_pred=y_pred)))\n",
    "print(\"The explained_variance_score is {}\".format(\n",
    "    explained_variance_score(y_true=y_true, y_pred=y_pred)))\n",
    "print(\"The R2 is {}\".format(\n",
    "    r2_score(y_true=y_true, y_pred=y_pred)))"
   ]
  },
  {
   "cell_type": "markdown",
   "metadata": {},
   "source": [
    "## Section 2: NMF method"
   ]
  },
  {
   "cell_type": "code",
   "execution_count": 65,
   "metadata": {},
   "outputs": [],
   "source": [
    "#define_model\n",
    "class NMF_imputation:\n",
    "    def __init__(self, init = 'nndsvd',\n",
    "                 n_components = 18,\n",
    "                 n_outer_loops = 4):\n",
    "        self.nmf = nmf_with_missing_values(n_outer_loops = n_outer_loops,\n",
    "                                           n_components = n_components, \n",
    "                                           init = init, \n",
    "                                           save_space = False,\n",
    "                                           random_state = None)\n",
    "    def fit_transform(self, data, template, missing_mask):\n",
    "        # reshape\n",
    "        original_shape = data.shape\n",
    "        d = data.shape[1] * data.shape[2] * data.shape[3]\n",
    "        reshaped_data = np.reshape(data, (data.shape[0], d))\n",
    "        reshaped_missing_mask = np.reshape(missing_mask, (data.shape[0], d))\n",
    "        reshaped_template = np.reshape(template, (d,))\n",
    "        assert data.shape[0] > self.nmf.n_components, 'The data should have more samples than n_components.'\n",
    "        self.nmf.fit_transform(reshaped_data[:,reshaped_template], missing_mask=reshaped_missing_mask[:,reshaped_template])\n",
    "        X_guess = self.nmf.X_guess\n",
    "        imputed_X = np.zeros_like(reshaped_data)\n",
    "        imputed_X[:, reshaped_template] = X_guess\n",
    "        return np.reshape(imputed_X, data.shape)"
   ]
  },
  {
   "cell_type": "code",
   "execution_count": 66,
   "metadata": {},
   "outputs": [],
   "source": [
    "#fit_model\n",
    "model_nmf = NMF_imputation(n_outer_loops = 4, n_components=18)\n",
    "imputed_nmf = model_nmf.fit_transform(imputed[:40], region_of_interest[0],missing_mask[:40])"
   ]
  },
  {
   "cell_type": "code",
   "execution_count": 70,
   "metadata": {},
   "outputs": [
    {
     "name": "stdout",
     "output_type": "stream",
     "text": [
      "The MSE is 5.172146484255791e-05\n",
      "The MAE is 0.003941208589822054\n",
      "The explained_variance_score is 0.9664987325668335\n",
      "The R2 is 0.9664822531055421\n"
     ]
    }
   ],
   "source": [
    "#visualize evaluate the performance of model\n",
    "y_true = data[:40][missing_mask[:40]].flatten()\n",
    "y_pred = imputed_nmf[missing_mask[:40]].flatten()\n",
    "print(\"The MSE is {}\".format(\n",
    "    mean_squared_error(y_true=y_true, y_pred=y_pred)))\n",
    "print(\"The MAE is {}\".format(\n",
    "    mean_absolute_error(y_true=y_true, y_pred=y_pred)))\n",
    "print(\"The explained_variance_score is {}\".format(\n",
    "    explained_variance_score(y_true=y_true, y_pred=y_pred)))\n",
    "print(\"The R2 is {}\".format(\n",
    "    r2_score(y_true=y_true, y_pred=y_pred)))"
   ]
  },
  {
   "cell_type": "code",
   "execution_count": null,
   "metadata": {},
   "outputs": [],
   "source": []
  }
 ],
 "metadata": {
  "kernelspec": {
   "display_name": "Environment (conda_pytorch_p36)",
   "language": "python",
   "name": "conda_pytorch_p36"
  },
  "language_info": {
   "codemirror_mode": {
    "name": "ipython",
    "version": 3
   },
   "file_extension": ".py",
   "mimetype": "text/x-python",
   "name": "python",
   "nbconvert_exporter": "python",
   "pygments_lexer": "ipython3",
   "version": "3.6.5"
  }
 },
 "nbformat": 4,
 "nbformat_minor": 2
}
