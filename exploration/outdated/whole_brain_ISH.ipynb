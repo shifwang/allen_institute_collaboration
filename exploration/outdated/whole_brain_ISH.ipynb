{
 "cells": [
  {
   "cell_type": "code",
   "execution_count": 12,
   "metadata": {},
   "outputs": [],
   "source": [
    "import os\n",
    "import nrrd\n",
    "import numpy as np\n",
    "import h5py\n",
    "from PIL import Image, ImageFilter\n",
    "import scipy.ndimage\n",
    "import SimpleITK as sitk\n",
    "import urllib, urllib2\n",
    "import json\n",
    "import pandas as pd\n",
    "import zipfile\n",
    "%matplotlib inline\n",
    "\n",
    "import matplotlib.pyplot as plt\n",
    "from matplotlib.colors import ListedColormap\n",
    "\n",
    "from allensdk.core.mouse_connectivity_cache import MouseConnectivityCache\n",
    "\n",
    "from gene_surfaceview import *\n",
    "from mayavi import mlab\n"
   ]
  },
  {
   "cell_type": "code",
   "execution_count": 4,
   "metadata": {},
   "outputs": [],
   "source": [
    "rma_url = (\"http://api.brain-map.org/api/v2/data/query.json?criteria=\" +\n",
    "           \"model::SectionDataSet,rma::criteria,[failed$eqFalse],\" +\n",
    "           \"plane_of_section[name$eqcoronal],products[name$eq'Mouse%20Brain'],\" +\n",
    "           \"treatments[name$eqISH],rma::include,genes,\" +\n",
    "           \"rma::options[only$eq'genes.acronym,id'][num_rows$eqall]\")\n",
    "\n",
    "response = urllib2.urlopen(rma_url).read()\n",
    "data = json.loads(response)\n",
    "sections = {v[\"id\"]: v[\"genes\"][0][\"acronym\"] for v in data[\"msg\"]}\n"
   ]
  },
  {
   "cell_type": "code",
   "execution_count": 5,
   "metadata": {},
   "outputs": [
    {
     "name": "stdout",
     "output_type": "stream",
     "text": [
      "73994713\n"
     ]
    }
   ],
   "source": [
    "for section_id in sections:\n",
    "    print section_id\n",
    "    gene_array = get_section_image(section_id)\n",
    "    \n",
    "    # for visualization\n",
    "    gene_array[np.where(gene_array==-1)] = 0\n",
    "    mlab.pipeline.volume(mlab.pipeline.scalar_field(gene_array))\n",
    "    mlab.show()    \n",
    "    break"
   ]
  },
  {
   "cell_type": "markdown",
   "metadata": {},
   "source": [
    "# size of the image"
   ]
  },
  {
   "cell_type": "code",
   "execution_count": 25,
   "metadata": {},
   "outputs": [
    {
     "data": {
      "text/plain": [
       "(67, 41, 58)"
      ]
     },
     "execution_count": 25,
     "metadata": {},
     "output_type": "execute_result"
    }
   ],
   "source": [
    "gene_array.shape"
   ]
  },
  {
   "cell_type": "markdown",
   "metadata": {},
   "source": [
    "# number of genes"
   ]
  },
  {
   "cell_type": "code",
   "execution_count": 26,
   "metadata": {},
   "outputs": [
    {
     "data": {
      "text/plain": [
       "4345"
      ]
     },
     "execution_count": 26,
     "metadata": {},
     "output_type": "execute_result"
    }
   ],
   "source": [
    "len(sections)"
   ]
  },
  {
   "cell_type": "markdown",
   "metadata": {},
   "source": [
    "# how many genes are in the RNA_Seq data set?"
   ]
  },
  {
   "cell_type": "code",
   "execution_count": 27,
   "metadata": {},
   "outputs": [
    {
     "data": {
      "text/html": [
       "<div>\n",
       "<style scoped>\n",
       "    .dataframe tbody tr th:only-of-type {\n",
       "        vertical-align: middle;\n",
       "    }\n",
       "\n",
       "    .dataframe tbody tr th {\n",
       "        vertical-align: top;\n",
       "    }\n",
       "\n",
       "    .dataframe thead th {\n",
       "        text-align: right;\n",
       "    }\n",
       "</style>\n",
       "<table border=\"1\" class=\"dataframe\">\n",
       "  <thead>\n",
       "    <tr style=\"text-align: right;\">\n",
       "      <th></th>\n",
       "      <th>gene_symbol</th>\n",
       "      <th>gene_id</th>\n",
       "      <th>chromosome</th>\n",
       "      <th>gene_entrez_id</th>\n",
       "      <th>gene_name</th>\n",
       "    </tr>\n",
       "  </thead>\n",
       "  <tbody>\n",
       "    <tr>\n",
       "      <th>0</th>\n",
       "      <td>0610005C13Rik</td>\n",
       "      <td>500717483</td>\n",
       "      <td>7</td>\n",
       "      <td>71661</td>\n",
       "      <td>RIKEN cDNA 0610005C13 gene</td>\n",
       "    </tr>\n",
       "    <tr>\n",
       "      <th>1</th>\n",
       "      <td>0610006L08Rik</td>\n",
       "      <td>500717917</td>\n",
       "      <td>7</td>\n",
       "      <td>76253</td>\n",
       "      <td>RIKEN cDNA 0610006L08 gene</td>\n",
       "    </tr>\n",
       "    <tr>\n",
       "      <th>2</th>\n",
       "      <td>0610007P14Rik</td>\n",
       "      <td>500730104</td>\n",
       "      <td>12</td>\n",
       "      <td>58520</td>\n",
       "      <td>RIKEN cDNA 0610007P14 gene</td>\n",
       "    </tr>\n",
       "    <tr>\n",
       "      <th>3</th>\n",
       "      <td>0610009B22Rik</td>\n",
       "      <td>500726890</td>\n",
       "      <td>11</td>\n",
       "      <td>66050</td>\n",
       "      <td>RIKEN cDNA 0610009B22 gene</td>\n",
       "    </tr>\n",
       "    <tr>\n",
       "      <th>4</th>\n",
       "      <td>0610009E02Rik</td>\n",
       "      <td>500702775</td>\n",
       "      <td>2</td>\n",
       "      <td>100125929</td>\n",
       "      <td>RIKEN cDNA 0610009E02 gene</td>\n",
       "    </tr>\n",
       "  </tbody>\n",
       "</table>\n",
       "</div>"
      ],
      "text/plain": [
       "     gene_symbol    gene_id chromosome  gene_entrez_id  \\\n",
       "0  0610005C13Rik  500717483          7           71661   \n",
       "1  0610006L08Rik  500717917          7           76253   \n",
       "2  0610007P14Rik  500730104         12           58520   \n",
       "3  0610009B22Rik  500726890         11           66050   \n",
       "4  0610009E02Rik  500702775          2       100125929   \n",
       "\n",
       "                    gene_name  \n",
       "0  RIKEN cDNA 0610005C13 gene  \n",
       "1  RIKEN cDNA 0610006L08 gene  \n",
       "2  RIKEN cDNA 0610007P14 gene  \n",
       "3  RIKEN cDNA 0610009B22 gene  \n",
       "4  RIKEN cDNA 0610009E02 gene  "
      ]
     },
     "execution_count": 27,
     "metadata": {},
     "output_type": "execute_result"
    }
   ],
   "source": [
    "genes = pd.read_csv('../data/mouse_VISp_2018-06-14_genes-rows.csv') # gene information\n",
    "genes.head()"
   ]
  },
  {
   "cell_type": "code",
   "execution_count": 28,
   "metadata": {},
   "outputs": [],
   "source": [
    "symbols = np.unique(genes['gene_symbol'])"
   ]
  },
  {
   "cell_type": "code",
   "execution_count": 29,
   "metadata": {},
   "outputs": [
    {
     "data": {
      "text/plain": [
       "0.9750122488975992"
      ]
     },
     "execution_count": 29,
     "metadata": {},
     "output_type": "execute_result"
    }
   ],
   "source": [
    "len(set(sections.values()).intersection(set(symbols))) * 1. / len(set(sections.values()))"
   ]
  },
  {
   "cell_type": "markdown",
   "metadata": {},
   "source": [
    "***should do more to explore the relationship between these two sets***"
   ]
  }
 ],
 "metadata": {
  "kernelspec": {
   "display_name": "Python 2",
   "language": "python",
   "name": "python2"
  },
  "language_info": {
   "codemirror_mode": {
    "name": "ipython",
    "version": 2
   },
   "file_extension": ".py",
   "mimetype": "text/x-python",
   "name": "python",
   "nbconvert_exporter": "python",
   "pygments_lexer": "ipython2",
   "version": "2.7.12"
  }
 },
 "nbformat": 4,
 "nbformat_minor": 2
}
