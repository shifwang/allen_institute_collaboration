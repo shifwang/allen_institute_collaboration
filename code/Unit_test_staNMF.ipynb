{
 "cells": [
  {
   "cell_type": "markdown",
   "metadata": {},
   "source": [
    "# Unit test for staNMF"
   ]
  },
  {
   "cell_type": "code",
   "execution_count": 1,
   "metadata": {},
   "outputs": [],
   "source": [
    "from staNMF import instability\n",
    "import numpy as np\n",
    "import sklearn\n",
    "import matplotlib.pyplot as plt"
   ]
  },
  {
   "cell_type": "code",
   "execution_count": 2,
   "metadata": {},
   "outputs": [],
   "source": [
    "n, d, K = 100, 100, 10\n",
    "D = np.maximum(np.random.normal(size = (n, K)),0)\n",
    "A = np.maximum(np.random.normal(size = (K, d)),0)\n",
    "X = D @ A + np.random.normal(0, 1, size = (n,d))\n",
    "mask = np.random.choice([0, 1], p=[.9, .1], size = (n, d))\n",
    "masked_X = X #- 1000 * mask "
   ]
  },
  {
   "cell_type": "code",
   "execution_count": 3,
   "metadata": {},
   "outputs": [],
   "source": [
    "ins = instability(masked_X.T, n_trials=10, folder_name='tmp', random_state=1000)"
   ]
  },
  {
   "cell_type": "code",
   "execution_count": 4,
   "metadata": {},
   "outputs": [
    {
     "data": {
      "text/plain": [
       "array([[5.43905042e-02, 2.97836222e-02],\n",
       "       [5.65332566e-02, 2.68914265e-02],\n",
       "       [1.83579840e-02, 1.64177511e-02],\n",
       "       [6.49542560e-02, 1.75911091e-02],\n",
       "       [4.14139500e-07, 9.83082390e-08],\n",
       "       [4.44211568e-02, 9.98913621e-03],\n",
       "       [8.48143969e-02, 1.01902111e-02],\n",
       "       [1.12736138e-01, 1.11119214e-02],\n",
       "       [1.19427426e-01, 1.65580049e-02]])"
      ]
     },
     "execution_count": 4,
     "metadata": {},
     "output_type": "execute_result"
    }
   ],
   "source": [
    "Ks = list(range(6, 15))\n",
    "output = ins.fit_transform(Ks, parallel = False)\n",
    "output"
   ]
  },
  {
   "cell_type": "code",
   "execution_count": 5,
   "metadata": {},
   "outputs": [
    {
     "data": {
      "text/plain": [
       "Text(0.5, 1.0, 'instability for different Ks')"
      ]
     },
     "execution_count": 5,
     "metadata": {},
     "output_type": "execute_result"
    },
    {
     "data": {
      "image/png": "[encoded data removed]",
      "text/plain": [
       "<Figure size 432x288 with 1 Axes>"
      ]
     },
     "metadata": {
      "needs_background": "light"
     },
     "output_type": "display_data"
    }
   ],
   "source": [
    "plt.errorbar(x = Ks, y = output[:,0], yerr=output[:,1])\n",
    "plt.title('instability for different Ks')"
   ]
  },
  {
   "cell_type": "markdown",
   "metadata": {},
   "source": [
    "## test cross validation"
   ]
  },
  {
   "cell_type": "code",
   "execution_count": 6,
   "metadata": {
    "scrolled": true
   },
   "outputs": [
    {
     "name": "stdout",
     "output_type": "stream",
     "text": [
      "Calculating prediction instability for 6\n",
      "num_samples larger than total_sample, force it to be smaller.\n",
      "Calculating prediction instability for 7\n",
      "Calculating prediction instability for 8\n",
      "Calculating prediction instability for 9\n",
      "Calculating prediction instability for 10\n",
      "Calculating prediction instability for 11\n",
      "Calculating prediction instability for 12\n",
      "Calculating prediction instability for 13\n",
      "Calculating prediction instability for 14\n"
     ]
    },
    {
     "data": {
      "text/plain": [
       "array([[1.42032148e+00, 1.77171438e-03],\n",
       "       [1.35558536e+00, 8.57309467e-04],\n",
       "       [1.28431316e+00, 6.55708865e-04],\n",
       "       [1.23135970e+00, 9.26892900e-04],\n",
       "       [1.17439020e+00, 5.33137804e-06],\n",
       "       [1.18926510e+00, 5.96291469e-03],\n",
       "       [1.20633011e+00, 7.02886494e-03],\n",
       "       [1.22647960e+00, 5.08160988e-03],\n",
       "       [1.24550720e+00, 4.68168032e-03]])"
      ]
     },
     "execution_count": 6,
     "metadata": {},
     "output_type": "execute_result"
    }
   ],
   "source": [
    "Ks = list(range(6, 15))\n",
    "output = ins.transform_cv(Ks, nfolds=2)\n",
    "output"
   ]
  },
  {
   "cell_type": "code",
   "execution_count": 7,
   "metadata": {},
   "outputs": [
    {
     "data": {
      "text/plain": [
       "Text(0.5, 1.0, 'MSE for different Ks')"
      ]
     },
     "execution_count": 7,
     "metadata": {},
     "output_type": "execute_result"
    },
    {
     "data": {
      "image/png": "[encoded data removed]",
      "text/plain": [
       "<Figure size 432x288 with 1 Axes>"
      ]
     },
     "metadata": {
      "needs_background": "light"
     },
     "output_type": "display_data"
    }
   ],
   "source": [
    "plt.errorbar(x = Ks, y = output[:,0], yerr=output[:,1])\n",
    "plt.title('MSE for different Ks')"
   ]
  },
  {
   "cell_type": "markdown",
   "metadata": {},
   "source": [
    "## test parallel"
   ]
  },
  {
   "cell_type": "code",
   "execution_count": 13,
   "metadata": {},
   "outputs": [
    {
     "name": "stdout",
     "output_type": "stream",
     "text": [
      "4.19 s ± 79.6 ms per loop (mean ± std. dev. of 7 runs, 1 loop each)\n"
     ]
    }
   ],
   "source": [
    "%timeit ins.fit(Ks, parallel = True, processes = len(Ks))"
   ]
  },
  {
   "cell_type": "code",
   "execution_count": 12,
   "metadata": {},
   "outputs": [
    {
     "name": "stdout",
     "output_type": "stream",
     "text": [
      "6.67 s ± 41.9 ms per loop (mean ± std. dev. of 7 runs, 1 loop each)\n"
     ]
    }
   ],
   "source": [
    "%timeit ins.fit(Ks, parallel = False)"
   ]
  }
 ],
 "metadata": {
  "kernelspec": {
   "display_name": "Python 3",
   "language": "python",
   "name": "python3"
  },
  "language_info": {
   "codemirror_mode": {
    "name": "ipython",
    "version": 3
   },
   "file_extension": ".py",
   "mimetype": "text/x-python",
   "name": "python",
   "nbconvert_exporter": "python",
   "pygments_lexer": "ipython3",
   "version": "3.7.2"
  }
 },
 "nbformat": 4,
 "nbformat_minor": 2
}
