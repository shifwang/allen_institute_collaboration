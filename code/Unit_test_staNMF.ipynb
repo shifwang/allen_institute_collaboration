{
 "cells": [
  {
   "cell_type": "markdown",
   "metadata": {},
   "source": [
    "# Unit test for staNMF"
   ]
  },
  {
   "cell_type": "code",
   "execution_count": 1,
   "metadata": {},
   "outputs": [],
   "source": [
    "from staNMF import instability\n",
    "import numpy as np\n",
    "import sklearn\n",
    "import matplotlib.pyplot as plt"
   ]
  },
  {
   "cell_type": "code",
   "execution_count": 2,
   "metadata": {},
   "outputs": [],
   "source": [
    "n, d, K = 100, 100, 10\n",
    "D = np.maximum(np.random.normal(size = (n, K)),0)\n",
    "A = np.maximum(np.random.normal(size = (K, d)),0)\n",
    "X = D @ A + np.random.normal(0, 1, size = (n,d))\n",
    "mask = np.random.choice([0, 1], p=[.9, .1], size = (n, d))\n",
    "masked_X = X #- 1000 * mask "
   ]
  },
  {
   "cell_type": "code",
   "execution_count": 3,
   "metadata": {},
   "outputs": [],
   "source": [
    "ins = instability(masked_X.T, n_trials=10, folder_name='tmp', random_state=1000)"
   ]
  },
  {
   "cell_type": "code",
   "execution_count": 4,
   "metadata": {},
   "outputs": [
    {
     "data": {
      "text/plain": [
       "array([[1.11146837e-01, 3.48214460e-02],\n",
       "       [1.01788599e-01, 2.73257814e-02],\n",
       "       [1.91654454e-02, 8.00007071e-03],\n",
       "       [9.56070498e-04, 8.44019373e-04],\n",
       "       [9.04635227e-07, 3.12552783e-07],\n",
       "       [5.66212248e-02, 1.01467008e-02],\n",
       "       [6.56903073e-02, 1.43771707e-02],\n",
       "       [9.22732295e-02, 1.17519460e-02],\n",
       "       [1.10176156e-01, 1.45321637e-02]])"
      ]
     },
     "execution_count": 4,
     "metadata": {},
     "output_type": "execute_result"
    }
   ],
   "source": [
    "Ks = list(range(6, 15))\n",
    "output = ins.fit_transform(Ks, parallel = False)\n",
    "output"
   ]
  },
  {
   "cell_type": "code",
   "execution_count": 5,
   "metadata": {},
   "outputs": [
    {
     "data": {
      "text/plain": [
       "Text(0.5, 1.0, 'instability for different Ks')"
      ]
     },
     "execution_count": 5,
     "metadata": {},
     "output_type": "execute_result"
    },
    {
     "data": {
      "image/png": "[encoded data removed]",
      "text/plain": [
       "<Figure size 432x288 with 1 Axes>"
      ]
     },
     "metadata": {
      "needs_background": "light"
     },
     "output_type": "display_data"
    }
   ],
   "source": [
    "plt.errorbar(x = Ks, y = output[:,0], yerr=output[:,1])\n",
    "plt.title('instability for different Ks')"
   ]
  },
  {
   "cell_type": "markdown",
   "metadata": {},
   "source": [
    "## test cross validation"
   ]
  },
  {
   "cell_type": "code",
   "execution_count": 6,
   "metadata": {
    "scrolled": true
   },
   "outputs": [
    {
     "name": "stdout",
     "output_type": "stream",
     "text": [
      "Calculating prediction instability for 6\n",
      "num_samples larger than total_sample, force it to be smaller.\n",
      "Calculating prediction instability for 7\n",
      "Calculating prediction instability for 8\n",
      "Calculating prediction instability for 9\n",
      "Calculating prediction instability for 10\n",
      "Calculating prediction instability for 11\n",
      "Calculating prediction instability for 12\n",
      "Calculating prediction instability for 13\n",
      "Calculating prediction instability for 14\n"
     ]
    },
    {
     "data": {
      "text/plain": [
       "array([[9.42569696e-01, 1.01016579e-03],\n",
       "       [8.71414038e-01, 3.70598588e-04],\n",
       "       [8.02236164e-01, 3.82877429e-04],\n",
       "       [7.47216408e-01, 4.42118274e-05],\n",
       "       [7.03093729e-01, 1.09791646e-06],\n",
       "       [6.82498470e-01, 4.61543655e-04],\n",
       "       [6.60717262e-01, 5.95788150e-04],\n",
       "       [6.40720785e-01, 5.73624559e-04],\n",
       "       [6.20955130e-01, 9.18039348e-04]])"
      ]
     },
     "execution_count": 6,
     "metadata": {},
     "output_type": "execute_result"
    }
   ],
   "source": [
    "Ks = list(range(6, 15))\n",
    "output = ins.transform_cv(Ks, nfolds=2, use_training_error=True)\n",
    "output"
   ]
  },
  {
   "cell_type": "code",
   "execution_count": 7,
   "metadata": {},
   "outputs": [
    {
     "data": {
      "text/plain": [
       "Text(0.5, 1.0, 'MSE for different Ks')"
      ]
     },
     "execution_count": 7,
     "metadata": {},
     "output_type": "execute_result"
    },
    {
     "data": {
      "image/png": "[encoded data removed]",
      "text/plain": [
       "<Figure size 432x288 with 1 Axes>"
      ]
     },
     "metadata": {
      "needs_background": "light"
     },
     "output_type": "display_data"
    }
   ],
   "source": [
    "plt.errorbar(x = Ks, y = output[:,0], yerr=output[:,1])\n",
    "plt.title('MSE for different Ks')"
   ]
  },
  {
   "cell_type": "markdown",
   "metadata": {},
   "source": [
    "## test parallel"
   ]
  },
  {
   "cell_type": "code",
   "execution_count": 13,
   "metadata": {},
   "outputs": [
    {
     "name": "stdout",
     "output_type": "stream",
     "text": [
      "4.19 s ± 79.6 ms per loop (mean ± std. dev. of 7 runs, 1 loop each)\n"
     ]
    }
   ],
   "source": [
    "%timeit ins.fit(Ks, parallel = True, processes = len(Ks))"
   ]
  },
  {
   "cell_type": "code",
   "execution_count": 12,
   "metadata": {},
   "outputs": [
    {
     "name": "stdout",
     "output_type": "stream",
     "text": [
      "6.67 s ± 41.9 ms per loop (mean ± std. dev. of 7 runs, 1 loop each)\n"
     ]
    }
   ],
   "source": [
    "%timeit ins.fit(Ks, parallel = False)"
   ]
  }
 ],
 "metadata": {
  "kernelspec": {
   "display_name": "Python 3",
   "language": "python",
   "name": "python3"
  },
  "language_info": {
   "codemirror_mode": {
    "name": "ipython",
    "version": 3
   },
   "file_extension": ".py",
   "mimetype": "text/x-python",
   "name": "python",
   "nbconvert_exporter": "python",
   "pygments_lexer": "ipython3",
   "version": "3.7.2"
  }
 },
 "nbformat": 4,
 "nbformat_minor": 2
}
