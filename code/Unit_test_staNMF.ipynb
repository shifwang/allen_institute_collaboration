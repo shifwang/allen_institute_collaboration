{
 "cells": [
  {
   "cell_type": "markdown",
   "metadata": {},
   "source": [
    "# Unit test for staNMF"
   ]
  },
  {
   "cell_type": "code",
   "execution_count": 1,
   "metadata": {},
   "outputs": [],
   "source": [
    "from staNMF import instability\n",
    "import numpy as np\n",
    "import sklearn\n",
    "import matplotlib.pyplot as plt"
   ]
  },
  {
   "cell_type": "code",
   "execution_count": 14,
   "metadata": {},
   "outputs": [],
   "source": [
    "n, d, K = 100, 100, 10\n",
    "D = np.maximum(np.random.normal(size = (n, K)),0)\n",
    "A = np.maximum(np.random.normal(size = (K, d)),0)\n",
    "X = D @ A + np.random.normal(0, 1, size = (n,d))\n",
    "mask = np.random.choice([0, 1], p=[.9, .1], size = (n, d))\n",
    "masked_X = X - 1000 * mask "
   ]
  },
  {
   "cell_type": "code",
   "execution_count": 15,
   "metadata": {},
   "outputs": [],
   "source": [
    "ins = instability(masked_X.T, n_trials=10, folder_name='tmp', random_state=1000)"
   ]
  },
  {
   "cell_type": "code",
   "execution_count": 16,
   "metadata": {},
   "outputs": [
    {
     "data": {
      "text/plain": [
       "array([[6.59811936e-06, 3.41311095e-06],\n",
       "       [6.14379139e-02, 2.88925242e-02],\n",
       "       [2.85061067e-02, 1.72123147e-02],\n",
       "       [6.38889809e-02, 2.64628647e-02],\n",
       "       [5.96868178e-07, 1.50359658e-07],\n",
       "       [4.90581220e-02, 6.50798092e-03],\n",
       "       [7.35508828e-02, 1.18815871e-02],\n",
       "       [9.36954298e-02, 1.28074815e-02],\n",
       "       [1.25127154e-01, 1.06206351e-02]])"
      ]
     },
     "execution_count": 16,
     "metadata": {},
     "output_type": "execute_result"
    }
   ],
   "source": [
    "Ks = list(range(6, 15))\n",
    "output = ins.fit_transform(Ks, parallel = False)\n",
    "output"
   ]
  },
  {
   "cell_type": "code",
   "execution_count": 17,
   "metadata": {},
   "outputs": [
    {
     "data": {
      "text/plain": [
       "Text(0.5, 1.0, 'instability for different Ks')"
      ]
     },
     "execution_count": 17,
     "metadata": {},
     "output_type": "execute_result"
    },
    {
     "data": {
      "image/png": "[encoded data removed]",
      "text/plain": [
       "<Figure size 432x288 with 1 Axes>"
      ]
     },
     "metadata": {
      "needs_background": "light"
     },
     "output_type": "display_data"
    }
   ],
   "source": [
    "plt.errorbar(x = Ks, y = output[:,0], yerr=output[:,1])\n",
    "plt.title('instability for different Ks')"
   ]
  },
  {
   "cell_type": "markdown",
   "metadata": {},
   "source": [
    "## test parallel"
   ]
  },
  {
   "cell_type": "code",
   "execution_count": 13,
   "metadata": {},
   "outputs": [
    {
     "name": "stdout",
     "output_type": "stream",
     "text": [
      "4.19 s ± 79.6 ms per loop (mean ± std. dev. of 7 runs, 1 loop each)\n"
     ]
    }
   ],
   "source": [
    "%timeit ins.fit(Ks, parallel = True, processes = len(Ks))"
   ]
  },
  {
   "cell_type": "code",
   "execution_count": 12,
   "metadata": {},
   "outputs": [
    {
     "name": "stdout",
     "output_type": "stream",
     "text": [
      "6.67 s ± 41.9 ms per loop (mean ± std. dev. of 7 runs, 1 loop each)\n"
     ]
    }
   ],
   "source": [
    "%timeit ins.fit(Ks, parallel = False)"
   ]
  }
 ],
 "metadata": {
  "kernelspec": {
   "display_name": "Python 3",
   "language": "python",
   "name": "python3"
  },
  "language_info": {
   "codemirror_mode": {
    "name": "ipython",
    "version": 3
   },
   "file_extension": ".py",
   "mimetype": "text/x-python",
   "name": "python",
   "nbconvert_exporter": "python",
   "pygments_lexer": "ipython3",
   "version": "3.6.7"
  }
 },
 "nbformat": 4,
 "nbformat_minor": 2
}
